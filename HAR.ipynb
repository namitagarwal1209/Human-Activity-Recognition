{
  "nbformat": 4,
  "nbformat_minor": 0,
  "metadata": {
    "kernelspec": {
      "display_name": "Python 3",
      "language": "python",
      "name": "python3"
    },
    "language_info": {
      "codemirror_mode": {
        "name": "ipython",
        "version": 3
      },
      "file_extension": ".py",
      "mimetype": "text/x-python",
      "name": "python",
      "nbconvert_exporter": "python",
      "pygments_lexer": "ipython3",
      "version": "3.6.1"
    },
    "colab": {
      "name": "Copy of HAR_LSTM.ipynb",
      "provenance": [],
      "collapsed_sections": []
    }
  },
  "cells": [
    {
      "cell_type": "code",
      "metadata": {
        "id": "qcQOPki8fv9C",
        "colab_type": "code",
        "outputId": "5bae5349-c74a-48bb-c7e0-48e43afda3dc",
        "colab": {
          "base_uri": "https://localhost:8080/",
          "height": 34
        }
      },
      "source": [
        "from google.colab import drive\n",
        "drive.mount('/content/drive')"
      ],
      "execution_count": 163,
      "outputs": [
        {
          "output_type": "stream",
          "text": [
            "Drive already mounted at /content/drive; to attempt to forcibly remount, call drive.mount(\"/content/drive\", force_remount=True).\n"
          ],
          "name": "stdout"
        }
      ]
    },
    {
      "cell_type": "code",
      "metadata": {
        "id": "e1FjB_Xsfs4l",
        "colab_type": "code",
        "colab": {}
      },
      "source": [
        "# Importing Libraries"
      ],
      "execution_count": 0,
      "outputs": []
    },
    {
      "cell_type": "code",
      "metadata": {
        "id": "jiLNQA87fs4w",
        "colab_type": "code",
        "colab": {}
      },
      "source": [
        "import pandas as pd\n",
        "import numpy as np"
      ],
      "execution_count": 0,
      "outputs": []
    },
    {
      "cell_type": "code",
      "metadata": {
        "id": "CB8iTEo0fs41",
        "colab_type": "code",
        "colab": {}
      },
      "source": [
        "# Activities are the class labels\n",
        "# It is a 6 class classification\n",
        "ACTIVITIES = {\n",
        "    0: 'WALKING',\n",
        "    1: 'WALKING_UPSTAIRS',\n",
        "    2: 'WALKING_DOWNSTAIRS',\n",
        "    3: 'SITTING',\n",
        "    4: 'STANDING',\n",
        "    5: 'LAYING',\n",
        "}\n",
        "\n",
        "# Utility function to print the confusion matrix\n",
        "def confusion_matrix(Y_true, Y_pred):\n",
        "    Y_true = pd.Series([ACTIVITIES[y] for y in np.argmax(Y_true, axis=1)])\n",
        "    Y_pred = pd.Series([ACTIVITIES[y] for y in np.argmax(Y_pred, axis=1)])\n",
        "\n",
        "    return pd.crosstab(Y_true, Y_pred, rownames=['True'], colnames=['Pred'])"
      ],
      "execution_count": 0,
      "outputs": []
    },
    {
      "cell_type": "markdown",
      "metadata": {
        "id": "Ru9i-AR1fs43",
        "colab_type": "text"
      },
      "source": [
        "### Data"
      ]
    },
    {
      "cell_type": "code",
      "metadata": {
        "id": "fZPRMSmnfs45",
        "colab_type": "code",
        "colab": {}
      },
      "source": [
        "# Data directory\n",
        "DATADIR = 'UCI_HAR_Dataset'"
      ],
      "execution_count": 0,
      "outputs": []
    },
    {
      "cell_type": "code",
      "metadata": {
        "id": "Fd8FUCXffs48",
        "colab_type": "code",
        "colab": {}
      },
      "source": [
        "# Raw data signals\n",
        "# Signals are from Accelerometer and Gyroscope\n",
        "# The signals are in x,y,z directions\n",
        "# Sensor signals are filtered to have only body acceleration\n",
        "# excluding the acceleration due to gravity\n",
        "# Triaxial acceleration from the accelerometer is total acceleration\n",
        "SIGNALS = [\n",
        "    \"body_acc_x\",\n",
        "    \"body_acc_y\",\n",
        "    \"body_acc_z\",\n",
        "    \"body_gyro_x\",\n",
        "    \"body_gyro_y\",\n",
        "    \"body_gyro_z\",\n",
        "    \"total_acc_x\",\n",
        "    \"total_acc_y\",\n",
        "    \"total_acc_z\"\n",
        "]"
      ],
      "execution_count": 0,
      "outputs": []
    },
    {
      "cell_type": "code",
      "metadata": {
        "id": "rcDoeLd-fs4-",
        "colab_type": "code",
        "colab": {}
      },
      "source": [
        "# Utility function to read the data from csv file\n",
        "def _read_csv(filename):\n",
        "    return pd.read_csv(filename, delim_whitespace=True, header=None)\n",
        "\n",
        "# Utility function to load the load\n",
        "def load_signals(subset):\n",
        "    signals_data = []\n",
        "\n",
        "    for signal in SIGNALS:\n",
        "        filename = f'/content/drive/My Drive/HAR/UCI_HAR_Dataset/{subset}/Inertial Signals/{signal}_{subset}.txt'\n",
        "        #filename = f'UCI_HAR_Dataset/{subset}/Inertial Signals/{signal}_{subset}.txt'\n",
        "        signals_data.append(\n",
        "            _read_csv(filename).as_matrix()\n",
        "        ) \n",
        "\n",
        "    # Transpose is used to change the dimensionality of the output,\n",
        "    # aggregating the signals by combination of sample/timestep.\n",
        "    # Resultant shape is (7352 train/2947 test samples, 128 timesteps, 9 signals)\n",
        "    return np.transpose(signals_data, (1, 2, 0))"
      ],
      "execution_count": 0,
      "outputs": []
    },
    {
      "cell_type": "code",
      "metadata": {
        "id": "yBq9SPr7fs5B",
        "colab_type": "code",
        "colab": {}
      },
      "source": [
        "\n",
        "def load_y(subset):\n",
        "    \"\"\"\n",
        "    The objective that we are trying to predict is a integer, from 1 to 6,\n",
        "    that represents a human activity. We return a binary representation of \n",
        "    every sample objective as a 6 bits vector using One Hot Encoding\n",
        "    (https://pandas.pydata.org/pandas-docs/stable/generated/pandas.get_dummies.html)\n",
        "    \"\"\"\n",
        "    \n",
        "    filename = f'/content/drive/My Drive/HAR/UCI_HAR_Dataset/{subset}/y_{subset}.txt'\n",
        "    y = _read_csv(filename)[0]\n",
        "\n",
        "    return pd.get_dummies(y).as_matrix()"
      ],
      "execution_count": 0,
      "outputs": []
    },
    {
      "cell_type": "code",
      "metadata": {
        "id": "Sg68dA6Jfs5G",
        "colab_type": "code",
        "colab": {}
      },
      "source": [
        "def load_data():\n",
        "    \"\"\"\n",
        "    Obtain the dataset from multiple files.\n",
        "    Returns: X_train, X_test, y_train, y_test\n",
        "    \"\"\"\n",
        "    X_train, X_test = load_signals('train'), load_signals('test')\n",
        "    y_train, y_test = load_y('train'), load_y('test')\n",
        "\n",
        "    return X_train, X_test, y_train, y_test"
      ],
      "execution_count": 0,
      "outputs": []
    },
    {
      "cell_type": "code",
      "metadata": {
        "id": "RhA-OLVSfs5J",
        "colab_type": "code",
        "colab": {}
      },
      "source": [
        "# Importing tensorflow\n",
        "np.random.seed(42)\n",
        "import tensorflow as tf\n",
        "tf.set_random_seed(42)"
      ],
      "execution_count": 0,
      "outputs": []
    },
    {
      "cell_type": "code",
      "metadata": {
        "id": "KDVWxH4Ifs5L",
        "colab_type": "code",
        "colab": {}
      },
      "source": [
        "# Configuring a session\n",
        "session_conf = tf.ConfigProto(\n",
        "    intra_op_parallelism_threads=1,\n",
        "    inter_op_parallelism_threads=1\n",
        ")"
      ],
      "execution_count": 0,
      "outputs": []
    },
    {
      "cell_type": "code",
      "metadata": {
        "id": "TUYpd-A5fs5N",
        "colab_type": "code",
        "colab": {}
      },
      "source": [
        "# Import Keras\n",
        "from keras import backend as K\n",
        "sess = tf.Session(graph=tf.get_default_graph(), config=session_conf)\n",
        "K.set_session(sess)"
      ],
      "execution_count": 0,
      "outputs": []
    },
    {
      "cell_type": "code",
      "metadata": {
        "id": "bV8U8Ioxfs5Q",
        "colab_type": "code",
        "colab": {}
      },
      "source": [
        ""
      ],
      "execution_count": 0,
      "outputs": []
    },
    {
      "cell_type": "code",
      "metadata": {
        "id": "DbYJNoIafs5S",
        "colab_type": "code",
        "colab": {}
      },
      "source": [
        "# Initializing parameters\n",
        "epochs = 30\n",
        "batch_size = 16\n",
        "n_hidden = 32"
      ],
      "execution_count": 0,
      "outputs": []
    },
    {
      "cell_type": "code",
      "metadata": {
        "id": "HWKoBbVvfs5W",
        "colab_type": "code",
        "colab": {}
      },
      "source": [
        "# Utility function to count the number of classes\n",
        "def _count_classes(y):\n",
        "    return len(set([tuple(category) for category in y]))"
      ],
      "execution_count": 0,
      "outputs": []
    },
    {
      "cell_type": "code",
      "metadata": {
        "id": "jb7iHlUVfs5Y",
        "colab_type": "code",
        "outputId": "523191d0-3052-4edb-9e9d-2516abcce42b",
        "colab": {
          "base_uri": "https://localhost:8080/",
          "height": 105
        }
      },
      "source": [
        "# Loading the train and test data\n",
        "X_train, X_test, Y_train, Y_test = load_data()"
      ],
      "execution_count": 177,
      "outputs": [
        {
          "output_type": "stream",
          "text": [
            "/usr/local/lib/python3.6/dist-packages/ipykernel_launcher.py:12: FutureWarning: Method .as_matrix will be removed in a future version. Use .values instead.\n",
            "  if sys.path[0] == '':\n",
            "/usr/local/lib/python3.6/dist-packages/ipykernel_launcher.py:13: FutureWarning: Method .as_matrix will be removed in a future version. Use .values instead.\n",
            "  del sys.path[0]\n"
          ],
          "name": "stderr"
        }
      ]
    },
    {
      "cell_type": "code",
      "metadata": {
        "id": "k4ys-Bswg-Hn",
        "colab_type": "code",
        "outputId": "f797e5cc-49cc-4656-9434-d026cd2a3efa",
        "colab": {
          "base_uri": "https://localhost:8080/",
          "height": 34
        }
      },
      "source": [
        "X_train.shape"
      ],
      "execution_count": 178,
      "outputs": [
        {
          "output_type": "execute_result",
          "data": {
            "text/plain": [
              "(7352, 128, 9)"
            ]
          },
          "metadata": {
            "tags": []
          },
          "execution_count": 178
        }
      ]
    },
    {
      "cell_type": "code",
      "metadata": {
        "id": "MJ0cm1xy_D6-",
        "colab_type": "code",
        "colab": {
          "base_uri": "https://localhost:8080/",
          "height": 136
        },
        "outputId": "e137c52d-9105-4f28-cf9e-24ffc951e151"
      },
      "source": [
        "Y_train #its one hot encodeed already"
      ],
      "execution_count": 181,
      "outputs": [
        {
          "output_type": "execute_result",
          "data": {
            "text/plain": [
              "array([[0, 0, 0, 0, 1, 0],\n",
              "       [0, 0, 0, 0, 1, 0],\n",
              "       [0, 0, 0, 0, 1, 0],\n",
              "       ...,\n",
              "       [0, 1, 0, 0, 0, 0],\n",
              "       [0, 1, 0, 0, 0, 0],\n",
              "       [0, 1, 0, 0, 0, 0]], dtype=uint8)"
            ]
          },
          "metadata": {
            "tags": []
          },
          "execution_count": 181
        }
      ]
    },
    {
      "cell_type": "code",
      "metadata": {
        "colab_type": "code",
        "outputId": "0e69a12f-3001-48f7-fcf3-5e84a144e6f7",
        "id": "uT7UZZE38Y8s",
        "colab": {
          "base_uri": "https://localhost:8080/",
          "height": 34
        }
      },
      "source": [
        "print(Y_train.shape)\n"
      ],
      "execution_count": 182,
      "outputs": [
        {
          "output_type": "stream",
          "text": [
            "(7352, 6)\n"
          ],
          "name": "stdout"
        }
      ]
    },
    {
      "cell_type": "code",
      "metadata": {
        "id": "yOQHC693fs5b",
        "colab_type": "code",
        "outputId": "a5d0e500-f72a-4052-d1fc-080c2b7294ea",
        "colab": {
          "base_uri": "https://localhost:8080/",
          "height": 85
        }
      },
      "source": [
        "timesteps = len(X_train[0])\n",
        "input_dim = len(X_train[0][0])\n",
        "n_classes = _count_classes(Y_train)\n",
        "\n",
        "print(timesteps)\n",
        "print(input_dim)\n",
        "print(len(X_train))  #no. of input points\n",
        "print(n_classes)"
      ],
      "execution_count": 183,
      "outputs": [
        {
          "output_type": "stream",
          "text": [
            "128\n",
            "9\n",
            "7352\n",
            "6\n"
          ],
          "name": "stdout"
        }
      ]
    },
    {
      "cell_type": "markdown",
      "metadata": {
        "id": "B2CcIo45fs52",
        "colab_type": "text"
      },
      "source": [
        "- With a simple 2 layer architecture we got 90.09% accuracy and a loss of 0.30\n",
        "- We can further imporve the performace with Hyperparameter tuning"
      ]
    },
    {
      "cell_type": "code",
      "metadata": {
        "id": "MkV_MMLnpyXF",
        "colab_type": "code",
        "colab": {}
      },
      "source": [
        "# Importing libraries\n",
        "#from keras.models import Sequential\n",
        "#from keras.layers import LSTM\n",
        "#from keras.layers.core import Dense, Dropout"
      ],
      "execution_count": 0,
      "outputs": []
    },
    {
      "cell_type": "markdown",
      "metadata": {
        "id": "TKXU5lfw1mBP",
        "colab_type": "text"
      },
      "source": [
        "<h1> Divide and Conquer"
      ]
    },
    {
      "cell_type": "code",
      "metadata": {
        "id": "L-lF19Z2giNB",
        "colab_type": "code",
        "colab": {}
      },
      "source": [
        "from tensorflow.keras.layers import Dense, concatenate, Activation, Dropout ,Flatten, Input, LSTM , Embedding , Conv1D, MaxPooling1D\n",
        "from tensorflow.keras.models import Model,Sequential\n",
        "#from keras.models import Sequential"
      ],
      "execution_count": 0,
      "outputs": []
    },
    {
      "cell_type": "code",
      "metadata": {
        "id": "Rh64B_WEMR-w",
        "colab_type": "code",
        "colab": {}
      },
      "source": [
        "import itertools \n",
        "import numpy as np\n",
        "import matplotlib.pyplot as plt\n",
        "from sklearn.metrics import confusion_matrix\n",
        "\n",
        "def plot_confusion_matrix(cm, classes, normalize=False,\n",
        "                                    title='Confusion matrix',\n",
        "                                    cmap=plt.cm.Blues):\n",
        "  if normalize:\n",
        "    cm = cm.astype('float') / cm.sum(axis=1)[:, np.newaxis]\n",
        "\n",
        "\n",
        "  plt.imshow(cm, interpolation='nearest', cmap=cmap)\n",
        "  plt.title(title)\n",
        "  plt.colorbar()\n",
        "  tick_marks = np.arange(len(classes))\n",
        "  plt.xticks(tick_marks, classes, rotation=90)\n",
        "  plt.yticks(tick_marks, classes)\n",
        "  fmt = '.2f' if normalize else 'd'\n",
        "  thresh = cm.max() / 2.\n",
        "\n",
        "  for i, j in itertools.product(range(cm.shape[0]), range(cm.shape[1])):\n",
        "    plt.text(j, i, format(cm[i, j], fmt), horizontalalignment=\"center\",color=\"white\" if cm[i, j] > thresh else \"black\")\n",
        "                           \n",
        "\n",
        "  plt.tight_layout()\n",
        "  plt.ylabel('True label')\n",
        "  plt.xlabel('Predicted label')\n"
      ],
      "execution_count": 0,
      "outputs": []
    },
    {
      "cell_type": "code",
      "metadata": {
        "id": "fHbeXCXw1tB_",
        "colab_type": "code",
        "colab": {}
      },
      "source": [
        "#mydata\n",
        "#X_train, X_test, Y_train, Y_test"
      ],
      "execution_count": 0,
      "outputs": []
    },
    {
      "cell_type": "code",
      "metadata": {
        "id": "5uQE5oKq6U58",
        "colab_type": "code",
        "colab": {}
      },
      "source": [
        "labels=['WALKING','WALKING_DOWNSTAIRS','WALKING_UPSTAIRS','LAYING', 'SITTING','STANDING']"
      ],
      "execution_count": 0,
      "outputs": []
    },
    {
      "cell_type": "code",
      "metadata": {
        "id": "LOxlYZogAB78",
        "colab_type": "code",
        "colab": {}
      },
      "source": [
        "#Y_train[0][:3] <---- dynamic---1\n",
        "#Y_train[0][3:] <---- static----0"
      ],
      "execution_count": 0,
      "outputs": []
    },
    {
      "cell_type": "code",
      "metadata": {
        "id": "W_pNXyl41LPy",
        "colab_type": "code",
        "outputId": "dec6a30d-d679-4a58-8fad-3e5037587444",
        "colab": {
          "base_uri": "https://localhost:8080/",
          "height": 34
        }
      },
      "source": [
        "#here we divide the y_train into 2 categories - dynamic and static\n",
        "\n",
        "#TRAIN DATA\n",
        "\n",
        "dyn_stat_lst= []\n",
        "\n",
        "for i in range(len(Y_train)):\n",
        "  if any(Y_train[i][:3]):    #i.e. for 0,1,2\n",
        "    dyn_stat_lst.append(1)\n",
        "  else:                      #i.e. for 3,4,5\n",
        "    dyn_stat_lst.append(0)\n",
        "    \n",
        "dyn_stat_lst_train = np.array(dyn_stat_lst)[:, np.newaxis]\n",
        "dyn_stat_lst_train.shape"
      ],
      "execution_count": 189,
      "outputs": [
        {
          "output_type": "execute_result",
          "data": {
            "text/plain": [
              "(7352, 1)"
            ]
          },
          "metadata": {
            "tags": []
          },
          "execution_count": 189
        }
      ]
    },
    {
      "cell_type": "code",
      "metadata": {
        "id": "X6_9MK3j2-Zb",
        "colab_type": "code",
        "outputId": "a47cef43-b172-499d-b055-9553911c5a35",
        "colab": {
          "base_uri": "https://localhost:8080/",
          "height": 34
        }
      },
      "source": [
        "#TEST DATA\n",
        "\n",
        "dyn_stat_lst= []\n",
        "\n",
        "for i in range(len(Y_test)):\n",
        "  if any(Y_test[i][:3]):\n",
        "    dyn_stat_lst.append(1)\n",
        "  else:\n",
        "    dyn_stat_lst.append(0)\n",
        "    \n",
        "dyn_stat_lst_test = np.array(dyn_stat_lst)[:, np.newaxis]\n",
        "dyn_stat_lst_test.shape"
      ],
      "execution_count": 190,
      "outputs": [
        {
          "output_type": "execute_result",
          "data": {
            "text/plain": [
              "(2947, 1)"
            ]
          },
          "metadata": {
            "tags": []
          },
          "execution_count": 190
        }
      ]
    },
    {
      "cell_type": "code",
      "metadata": {
        "id": "6qSGhZQ8Aak-",
        "colab_type": "code",
        "outputId": "43564f5d-5b46-49fd-e288-db80b71706e8",
        "colab": {
          "base_uri": "https://localhost:8080/",
          "height": 105
        }
      },
      "source": [
        "from sklearn.preprocessing import OneHotEncoder\n",
        "encoder = OneHotEncoder()\n",
        "\n",
        "dyn_stat_lst_train_owe = encoder.fit_transform(dyn_stat_lst_train.reshape(-1,1)).toarray()\n",
        "\n",
        "dyn_stat_lst_test_owe = encoder.transform(dyn_stat_lst_test.reshape(-1,1)).toarray()\n"
      ],
      "execution_count": 191,
      "outputs": [
        {
          "output_type": "stream",
          "text": [
            "/usr/local/lib/python3.6/dist-packages/sklearn/preprocessing/_encoders.py:415: FutureWarning: The handling of integer data will change in version 0.22. Currently, the categories are determined based on the range [0, max(values)], while in the future they will be determined based on the unique values.\n",
            "If you want the future behaviour and silence this warning, you can specify \"categories='auto'\".\n",
            "In case you used a LabelEncoder before this OneHotEncoder to convert the categories to integers, then you can now use the OneHotEncoder directly.\n",
            "  warnings.warn(msg, FutureWarning)\n"
          ],
          "name": "stderr"
        }
      ]
    },
    {
      "cell_type": "code",
      "metadata": {
        "id": "BsA-cUXt9X5r",
        "colab_type": "code",
        "outputId": "0fb2250f-f2b1-4544-c98c-bf95389f39a5",
        "colab": {
          "base_uri": "https://localhost:8080/",
          "height": 34
        }
      },
      "source": [
        "dyn_stat_lst_train_owe.shape"
      ],
      "execution_count": 192,
      "outputs": [
        {
          "output_type": "execute_result",
          "data": {
            "text/plain": [
              "(7352, 2)"
            ]
          },
          "metadata": {
            "tags": []
          },
          "execution_count": 192
        }
      ]
    },
    {
      "cell_type": "code",
      "metadata": {
        "id": "abA0S_yY3VFn",
        "colab_type": "code",
        "colab": {
          "base_uri": "https://localhost:8080/",
          "height": 88
        },
        "outputId": "007e4356-a79d-4843-ae63-5afce8874a90"
      },
      "source": [
        "# Initiliazing the sequential model\n",
        "  model = Sequential()\n",
        "\n",
        "  model.add(LSTM(128, input_shape=(timesteps, input_dim)))\n",
        "\n",
        "  model.add(Dropout(0.5))\n",
        "\n",
        "  model.add(Dense(2, activation='sigmoid'))\n",
        "\n",
        "  model.compile(loss='categorical_crossentropy',\n",
        "              optimizer='adam',\n",
        "              metrics=['accuracy'])\n",
        "  "
      ],
      "execution_count": 28,
      "outputs": [
        {
          "output_type": "stream",
          "text": [
            "WARNING:tensorflow:From /usr/local/lib/python3.6/dist-packages/tensorflow_core/python/ops/resource_variable_ops.py:1630: calling BaseResourceVariable.__init__ (from tensorflow.python.ops.resource_variable_ops) with constraint is deprecated and will be removed in a future version.\n",
            "Instructions for updating:\n",
            "If using Keras pass *_constraint arguments to layers.\n"
          ],
          "name": "stdout"
        }
      ]
    },
    {
      "cell_type": "code",
      "metadata": {
        "id": "C0GR8QZxhgle",
        "colab_type": "code",
        "colab": {}
      },
      "source": [
        "#2nd form---- just in case\n",
        "\n",
        "\n",
        "#input_1 = Input(shape=(timesteps, input_dim), name = 'first_stage')\n",
        "#lstm  = LSTM(128)(input_1)\n",
        "#d = Dropout(0.5)(lstm)\n",
        "#dense = Dense(2, activation='sigmoid')(d)"
      ],
      "execution_count": 0,
      "outputs": []
    },
    {
      "cell_type": "code",
      "metadata": {
        "id": "8sgpUowZ82Xu",
        "colab_type": "code",
        "outputId": "736b52e6-a766-48be-856c-7fe390b1a0ac",
        "colab": {
          "base_uri": "https://localhost:8080/",
          "height": 513
        }
      },
      "source": [
        "history = model.fit(X_train, dyn_stat_lst_train_owe, batch_size= 16, epochs= 12, verbose=1, validation_data=(X_test, dyn_stat_lst_test_owe)) "
      ],
      "execution_count": 30,
      "outputs": [
        {
          "output_type": "stream",
          "text": [
            "WARNING:tensorflow:From /usr/local/lib/python3.6/dist-packages/tensorflow_core/python/ops/math_grad.py:1424: where (from tensorflow.python.ops.array_ops) is deprecated and will be removed in a future version.\n",
            "Instructions for updating:\n",
            "Use tf.where in 2.0, which has the same broadcast rule as np.where\n",
            "Train on 7352 samples, validate on 2947 samples\n",
            "Epoch 1/12\n",
            "7352/7352 [==============================] - 113s 15ms/sample - loss: 0.4286 - acc: 0.8128 - val_loss: 0.3238 - val_acc: 0.8941\n",
            "Epoch 2/12\n",
            "7352/7352 [==============================] - 113s 15ms/sample - loss: 0.3387 - acc: 0.8615 - val_loss: 0.2751 - val_acc: 0.9057\n",
            "Epoch 3/12\n",
            "7352/7352 [==============================] - 113s 15ms/sample - loss: 0.6187 - acc: 0.6182 - val_loss: 0.5225 - val_acc: 0.7170\n",
            "Epoch 4/12\n",
            "7352/7352 [==============================] - 113s 15ms/sample - loss: 0.5822 - acc: 0.6474 - val_loss: 0.4739 - val_acc: 0.7635\n",
            "Epoch 5/12\n",
            "7352/7352 [==============================] - 113s 15ms/sample - loss: 0.1820 - acc: 0.9378 - val_loss: 0.0890 - val_acc: 0.9752\n",
            "Epoch 6/12\n",
            "7352/7352 [==============================] - 114s 16ms/sample - loss: 0.0319 - acc: 0.9921 - val_loss: 0.0332 - val_acc: 0.9912\n",
            "Epoch 7/12\n",
            "7352/7352 [==============================] - 113s 15ms/sample - loss: 0.0144 - acc: 0.9967 - val_loss: 0.0211 - val_acc: 0.9949\n",
            "Epoch 8/12\n",
            "7352/7352 [==============================] - 112s 15ms/sample - loss: 0.0117 - acc: 0.9965 - val_loss: 0.0168 - val_acc: 0.9963\n",
            "Epoch 9/12\n",
            "7352/7352 [==============================] - 112s 15ms/sample - loss: 0.0113 - acc: 0.9982 - val_loss: 0.0174 - val_acc: 0.9936\n",
            "Epoch 10/12\n",
            "7352/7352 [==============================] - 113s 15ms/sample - loss: 0.0076 - acc: 0.9977 - val_loss: 0.0129 - val_acc: 0.9969\n",
            "Epoch 11/12\n",
            "7352/7352 [==============================] - 112s 15ms/sample - loss: 0.0067 - acc: 0.9982 - val_loss: 0.0139 - val_acc: 0.9956\n",
            "Epoch 12/12\n",
            "7352/7352 [==============================] - 113s 15ms/sample - loss: 0.0056 - acc: 0.9985 - val_loss: 0.0096 - val_acc: 0.9976\n"
          ],
          "name": "stdout"
        }
      ]
    },
    {
      "cell_type": "code",
      "metadata": {
        "id": "iKAKjQzh-m-r",
        "colab_type": "code",
        "colab": {
          "base_uri": "https://localhost:8080/",
          "height": 34
        },
        "outputId": "042f9d42-65f3-40c7-d826-603e0038f9be"
      },
      "source": [
        "_,acc_val = model.evaluate(X_test,dyn_stat_lst_test_owe,verbose=0)\n",
        "_,acc_train = model.evaluate(X_train,dyn_stat_lst_train_owe,verbose=0)\n",
        "print('Train_accuracy',acc_train,'test_accuracy',acc_val)"
      ],
      "execution_count": 31,
      "outputs": [
        {
          "output_type": "stream",
          "text": [
            "Train_accuracy 0.99959195 test_accuracy 0.9976247\n"
          ],
          "name": "stdout"
        }
      ]
    },
    {
      "cell_type": "markdown",
      "metadata": {
        "id": "DtnaxqHED8xt",
        "colab_type": "text"
      },
      "source": [
        "The model classifies data into static and dynamic with very high accuracy"
      ]
    },
    {
      "cell_type": "code",
      "metadata": {
        "id": "JqIueZaHD3Iv",
        "colab_type": "code",
        "colab": {}
      },
      "source": [
        ""
      ],
      "execution_count": 0,
      "outputs": []
    },
    {
      "cell_type": "markdown",
      "metadata": {
        "id": "t_hM5cCbEWLa",
        "colab_type": "text"
      },
      "source": [
        "<h2> second stage"
      ]
    },
    {
      "cell_type": "code",
      "metadata": {
        "id": "8nLo0NdGEg8p",
        "colab_type": "code",
        "outputId": "a6d5ea98-e88c-4adf-a1e7-d876366e1c0b",
        "colab": {
          "base_uri": "https://localhost:8080/",
          "height": 51
        }
      },
      "source": [
        "#here we divide the y_train into 2 categories - dynamic and static\n",
        "\n",
        "#TRAIN DATA ----- Y\n",
        "\n",
        "static= []\n",
        "dynamic = []\n",
        "\n",
        "index_static_train=[]   # all the indexes which get divided into static and dynamic will be stored in these 2 lists. we'll use these 2 lists to divide our X_train into static and dynamic sections\n",
        "index_dynamic_train = []\n",
        "\n",
        "for i in range(len(Y_train)):\n",
        "  if any(Y_train[i][:3]):\n",
        "    dynamic.append(Y_train[i][:3])\n",
        "    index_dynamic_train.append(i)\n",
        "    \n",
        "  else:\n",
        "    static.append(Y_train[i][3:])\n",
        "    index_static_train.append(i)\n",
        "    \n",
        "Y_dynamic_train = np.array(dynamic)\n",
        "print(Y_dynamic_train.shape)\n",
        "\n",
        "Y_static_train = np.array(static)\n",
        "print(Y_static_train.shape)"
      ],
      "execution_count": 32,
      "outputs": [
        {
          "output_type": "stream",
          "text": [
            "(3285, 3)\n",
            "(4067, 3)\n"
          ],
          "name": "stdout"
        }
      ]
    },
    {
      "cell_type": "code",
      "metadata": {
        "id": "HPmdMh1n_jZ6",
        "colab_type": "code",
        "colab": {
          "base_uri": "https://localhost:8080/",
          "height": 136
        },
        "outputId": "3dc02abd-5e6b-44da-f95a-a00c0df14160"
      },
      "source": [
        "Y_static_train"
      ],
      "execution_count": 194,
      "outputs": [
        {
          "output_type": "execute_result",
          "data": {
            "text/plain": [
              "array([[0, 1, 0],\n",
              "       [0, 1, 0],\n",
              "       [0, 1, 0],\n",
              "       ...,\n",
              "       [0, 0, 1],\n",
              "       [0, 0, 1],\n",
              "       [0, 0, 1]], dtype=uint8)"
            ]
          },
          "metadata": {
            "tags": []
          },
          "execution_count": 194
        }
      ]
    },
    {
      "cell_type": "code",
      "metadata": {
        "id": "os4FyqinxpsK",
        "colab_type": "code",
        "outputId": "5e8f876d-2158-413e-c531-ca9d3617e123",
        "colab": {
          "base_uri": "https://localhost:8080/",
          "height": 51
        }
      },
      "source": [
        "#TEST DATA--------Y\n",
        "\n",
        "static= []\n",
        "dynamic = []\n",
        "\n",
        "index_static_test=[]   # all the indexes which get divided into static and dynamic will be stored in these 2 lists. we'll use these 2 lists to divide our X_train into static and dynamic sections\n",
        "index_dynamic_test = []\n",
        "\n",
        "for i in range(len(Y_test)):\n",
        "  if any(Y_test[i][:3]):\n",
        "    dynamic.append(Y_test[i][:3])\n",
        "    index_dynamic_test.append(i)\n",
        "    \n",
        "  else:\n",
        "    static.append(Y_test[i][3:])\n",
        "    index_static_test.append(i)\n",
        "    \n",
        "Y_dynamic_test = np.array(dynamic)\n",
        "print(Y_dynamic_test.shape)\n",
        "\n",
        "Y_static_test = np.array(static)\n",
        "print(Y_static_test.shape)"
      ],
      "execution_count": 33,
      "outputs": [
        {
          "output_type": "stream",
          "text": [
            "(1387, 3)\n",
            "(1560, 3)\n"
          ],
          "name": "stdout"
        }
      ]
    },
    {
      "cell_type": "code",
      "metadata": {
        "id": "tWucYm1hKZOR",
        "colab_type": "code",
        "outputId": "4ee49d8e-c9e9-4f54-be39-a489a1b13153",
        "colab": {
          "base_uri": "https://localhost:8080/",
          "height": 51
        }
      },
      "source": [
        "#diving x_train into dynamic and static dataset\n",
        "\n",
        "#TRAIN------X\n",
        "\n",
        "X_dynamic = [X_train[i] for i in index_dynamic_train]\n",
        "X_static =  [X_train[i] for i in index_static_train]\n",
        "\n",
        "\n",
        "X_dynamic_train = np.array(X_dynamic)\n",
        "print(X_dynamic_train.shape)\n",
        "\n",
        "X_static_train = np.array(X_static)\n",
        "print(X_static_train.shape)"
      ],
      "execution_count": 34,
      "outputs": [
        {
          "output_type": "stream",
          "text": [
            "(3285, 128, 9)\n",
            "(4067, 128, 9)\n"
          ],
          "name": "stdout"
        }
      ]
    },
    {
      "cell_type": "code",
      "metadata": {
        "id": "Glk3orFCKZLG",
        "colab_type": "code",
        "outputId": "443f07ae-a680-4ed0-b9d3-53852bc51c67",
        "colab": {
          "base_uri": "https://localhost:8080/",
          "height": 51
        }
      },
      "source": [
        "#TEST------X\n",
        "\n",
        "X_dynamic = [X_test[i] for i in index_dynamic_test]\n",
        "X_static =  [X_test[i] for i in index_static_test]\n",
        "\n",
        "X_dynamic_test = np.array(X_dynamic)\n",
        "print(X_dynamic_test.shape)\n",
        "\n",
        "X_static_test = np.array(X_static)\n",
        "print(X_static_test.shape)\n",
        "\n"
      ],
      "execution_count": 35,
      "outputs": [
        {
          "output_type": "stream",
          "text": [
            "(1387, 128, 9)\n",
            "(1560, 128, 9)\n"
          ],
          "name": "stdout"
        }
      ]
    },
    {
      "cell_type": "markdown",
      "metadata": {
        "id": "pEQuswWUEJwu",
        "colab_type": "text"
      },
      "source": [
        "<h1> stage 2 dynamic"
      ]
    },
    {
      "cell_type": "code",
      "metadata": {
        "id": "Ly85jecQENaw",
        "colab_type": "code",
        "colab": {
          "base_uri": "https://localhost:8080/",
          "height": 85
        },
        "outputId": "2859e7ec-4c2a-4263-fda9-6e7c11b89010"
      },
      "source": [
        "print(X_dynamic_train.shape)\n",
        "print(Y_dynamic_train.shape)\n",
        "\n",
        "print(X_dynamic_test.shape)\n",
        "print(Y_dynamic_test.shape)"
      ],
      "execution_count": 36,
      "outputs": [
        {
          "output_type": "stream",
          "text": [
            "(3285, 128, 9)\n",
            "(3285, 3)\n",
            "(1387, 128, 9)\n",
            "(1387, 3)\n"
          ],
          "name": "stdout"
        }
      ]
    },
    {
      "cell_type": "code",
      "metadata": {
        "id": "rseqifpfc3kv",
        "colab_type": "code",
        "colab": {}
      },
      "source": [
        "#stage 2 - dynamic\n",
        "\n",
        "input_21 = Input(shape = (128,9,), name = 'stage_2_dynamic') \n",
        "conv_1 = Conv1D(100, kernel_size = (3), activation = 'relu', padding = 'same')(input_21)\n",
        "maxpool_1 = MaxPooling1D(pool_size = (100), strides =(3))(conv_1)\n",
        "\n",
        "f1 = Flatten()(maxpool_1)\n",
        "d1 =Dropout(0.5)(f1)\n",
        "main_output_dynamic = Dense(3, activation = 'softmax')(d1)\n",
        "\n"
      ],
      "execution_count": 0,
      "outputs": []
    },
    {
      "cell_type": "code",
      "metadata": {
        "id": "AIKm9gV1vo6F",
        "colab_type": "code",
        "colab": {}
      },
      "source": [
        "model_21= Model(inputs=[input_21], outputs= main_output_dynamic)\n"
      ],
      "execution_count": 0,
      "outputs": []
    },
    {
      "cell_type": "code",
      "metadata": {
        "id": "bjAQT29dvo3b",
        "colab_type": "code",
        "colab": {}
      },
      "source": [
        "model_21.compile(loss='mean_squared_error', optimizer = 'adam',  metrics = ['accuracy'])"
      ],
      "execution_count": 0,
      "outputs": []
    },
    {
      "cell_type": "code",
      "metadata": {
        "id": "aw-iphS3wias",
        "colab_type": "code",
        "outputId": "2f7728c1-225e-484b-a4c0-f239c4634df4",
        "colab": {
          "base_uri": "https://localhost:8080/",
          "height": 1000
        }
      },
      "source": [
        "result = model_21.fit(X_dynamic_train , Y_dynamic_train, batch_size = 32 , epochs = 35, verbose =1, validation_data = (X_dynamic_test, Y_dynamic_test))"
      ],
      "execution_count": 54,
      "outputs": [
        {
          "output_type": "stream",
          "text": [
            "Train on 3285 samples, validate on 1387 samples\n",
            "Epoch 1/35\n",
            "3285/3285 [==============================] - 1s 396us/sample - loss: 4.2314e-05 - acc: 1.0000 - val_loss: 0.0341 - val_acc: 0.9416\n",
            "Epoch 2/35\n",
            "3285/3285 [==============================] - 1s 387us/sample - loss: 1.3063e-05 - acc: 1.0000 - val_loss: 0.0287 - val_acc: 0.9510\n",
            "Epoch 3/35\n",
            "3285/3285 [==============================] - 1s 387us/sample - loss: 8.8884e-06 - acc: 1.0000 - val_loss: 0.0279 - val_acc: 0.9503\n",
            "Epoch 4/35\n",
            "3285/3285 [==============================] - 1s 386us/sample - loss: 2.1378e-04 - acc: 0.9994 - val_loss: 0.0381 - val_acc: 0.9286\n",
            "Epoch 5/35\n",
            "3285/3285 [==============================] - 1s 388us/sample - loss: 6.5914e-05 - acc: 1.0000 - val_loss: 0.0261 - val_acc: 0.9503\n",
            "Epoch 6/35\n",
            "3285/3285 [==============================] - 1s 386us/sample - loss: 4.1626e-05 - acc: 1.0000 - val_loss: 0.0351 - val_acc: 0.9358\n",
            "Epoch 7/35\n",
            "3285/3285 [==============================] - 1s 393us/sample - loss: 1.8554e-05 - acc: 1.0000 - val_loss: 0.0275 - val_acc: 0.9503\n",
            "Epoch 8/35\n",
            "3285/3285 [==============================] - 1s 396us/sample - loss: 2.5477e-05 - acc: 1.0000 - val_loss: 0.0360 - val_acc: 0.9358\n",
            "Epoch 9/35\n",
            "3285/3285 [==============================] - 1s 391us/sample - loss: 1.3264e-05 - acc: 1.0000 - val_loss: 0.0341 - val_acc: 0.9402\n",
            "Epoch 10/35\n",
            "3285/3285 [==============================] - 1s 390us/sample - loss: 1.7080e-05 - acc: 1.0000 - val_loss: 0.0325 - val_acc: 0.9438\n",
            "Epoch 11/35\n",
            "3285/3285 [==============================] - 1s 384us/sample - loss: 3.4932e-06 - acc: 1.0000 - val_loss: 0.0308 - val_acc: 0.9459\n",
            "Epoch 12/35\n",
            "3285/3285 [==============================] - 1s 400us/sample - loss: 3.8267e-06 - acc: 1.0000 - val_loss: 0.0295 - val_acc: 0.9474\n",
            "Epoch 13/35\n",
            "3285/3285 [==============================] - 1s 389us/sample - loss: 5.8003e-06 - acc: 1.0000 - val_loss: 0.0341 - val_acc: 0.9402\n",
            "Epoch 14/35\n",
            "3285/3285 [==============================] - 1s 403us/sample - loss: 3.9922e-06 - acc: 1.0000 - val_loss: 0.0321 - val_acc: 0.9445\n",
            "Epoch 15/35\n",
            "3285/3285 [==============================] - 1s 391us/sample - loss: 4.3341e-06 - acc: 1.0000 - val_loss: 0.0312 - val_acc: 0.9445\n",
            "Epoch 16/35\n",
            "3285/3285 [==============================] - 1s 387us/sample - loss: 1.9010e-05 - acc: 1.0000 - val_loss: 0.0315 - val_acc: 0.9445\n",
            "Epoch 17/35\n",
            "3285/3285 [==============================] - 1s 384us/sample - loss: 1.0736e-05 - acc: 1.0000 - val_loss: 0.0368 - val_acc: 0.9358\n",
            "Epoch 18/35\n",
            "3285/3285 [==============================] - 1s 390us/sample - loss: 2.8954e-04 - acc: 0.9994 - val_loss: 0.0355 - val_acc: 0.9373\n",
            "Epoch 19/35\n",
            "3285/3285 [==============================] - 1s 393us/sample - loss: 1.0553e-05 - acc: 1.0000 - val_loss: 0.0330 - val_acc: 0.9416\n",
            "Epoch 20/35\n",
            "3285/3285 [==============================] - 1s 389us/sample - loss: 1.9464e-04 - acc: 0.9997 - val_loss: 0.0368 - val_acc: 0.9301\n",
            "Epoch 21/35\n",
            "3285/3285 [==============================] - 1s 394us/sample - loss: 0.0020 - acc: 0.9957 - val_loss: 0.0408 - val_acc: 0.9315\n",
            "Epoch 22/35\n",
            "3285/3285 [==============================] - 1s 390us/sample - loss: 9.7558e-05 - acc: 1.0000 - val_loss: 0.0294 - val_acc: 0.9459\n",
            "Epoch 23/35\n",
            "3285/3285 [==============================] - 1s 396us/sample - loss: 1.4945e-05 - acc: 1.0000 - val_loss: 0.0313 - val_acc: 0.9438\n",
            "Epoch 24/35\n",
            "3285/3285 [==============================] - 1s 393us/sample - loss: 1.6635e-05 - acc: 1.0000 - val_loss: 0.0363 - val_acc: 0.9380\n",
            "Epoch 25/35\n",
            "3285/3285 [==============================] - 1s 383us/sample - loss: 8.0002e-05 - acc: 1.0000 - val_loss: 0.0250 - val_acc: 0.9531\n",
            "Epoch 26/35\n",
            "3285/3285 [==============================] - 1s 390us/sample - loss: 3.5098e-05 - acc: 1.0000 - val_loss: 0.0343 - val_acc: 0.9409\n",
            "Epoch 27/35\n",
            "3285/3285 [==============================] - 1s 384us/sample - loss: 5.6767e-06 - acc: 1.0000 - val_loss: 0.0340 - val_acc: 0.9402\n",
            "Epoch 28/35\n",
            "3285/3285 [==============================] - 1s 384us/sample - loss: 3.2421e-06 - acc: 1.0000 - val_loss: 0.0328 - val_acc: 0.9430\n",
            "Epoch 29/35\n",
            "3285/3285 [==============================] - 1s 388us/sample - loss: 1.1349e-05 - acc: 1.0000 - val_loss: 0.0339 - val_acc: 0.9402\n",
            "Epoch 30/35\n",
            "3285/3285 [==============================] - 1s 388us/sample - loss: 6.8986e-04 - acc: 0.9988 - val_loss: 0.0341 - val_acc: 0.9402\n",
            "Epoch 31/35\n",
            "3285/3285 [==============================] - 1s 388us/sample - loss: 2.1881e-04 - acc: 0.9997 - val_loss: 0.0301 - val_acc: 0.9438\n",
            "Epoch 32/35\n",
            "3285/3285 [==============================] - 1s 403us/sample - loss: 4.3163e-05 - acc: 1.0000 - val_loss: 0.0419 - val_acc: 0.9301\n",
            "Epoch 33/35\n",
            "3285/3285 [==============================] - 1s 386us/sample - loss: 8.2527e-05 - acc: 1.0000 - val_loss: 0.0452 - val_acc: 0.9200\n",
            "Epoch 34/35\n",
            "3285/3285 [==============================] - 1s 386us/sample - loss: 4.2188e-04 - acc: 0.9991 - val_loss: 0.0358 - val_acc: 0.9373\n",
            "Epoch 35/35\n",
            "3285/3285 [==============================] - 1s 388us/sample - loss: 1.9939e-04 - acc: 0.9997 - val_loss: 0.0309 - val_acc: 0.9459\n"
          ],
          "name": "stdout"
        }
      ]
    },
    {
      "cell_type": "code",
      "metadata": {
        "id": "oTSUbEdyAcDb",
        "colab_type": "code",
        "colab": {
          "base_uri": "https://localhost:8080/",
          "height": 34
        },
        "outputId": "7b09998e-a6aa-4542-d26e-ef6938503a26"
      },
      "source": [
        "_,acc_val = model_21.evaluate(X_dynamic_test, Y_dynamic_test,verbose=0)\n",
        "_,acc_train = model_21.evaluate(X_dynamic_train, Y_dynamic_train,verbose=0)\n",
        "print('Train_accuracy',acc_train,'test_accuracy', acc_val)"
      ],
      "execution_count": 55,
      "outputs": [
        {
          "output_type": "stream",
          "text": [
            "Train_accuracy 1.0 test_accuracy 0.9459265\n"
          ],
          "name": "stdout"
        }
      ]
    },
    {
      "cell_type": "code",
      "metadata": {
        "id": "P-bcsDK-Hirn",
        "colab_type": "code",
        "colab": {}
      },
      "source": [
        "import matplotlib.pyplot as plt \n",
        "import seaborn as sns"
      ],
      "execution_count": 0,
      "outputs": []
    },
    {
      "cell_type": "code",
      "metadata": {
        "id": "-JXcjdZgFlXI",
        "colab_type": "code",
        "colab": {
          "base_uri": "https://localhost:8080/",
          "height": 497
        },
        "outputId": "2417f5ec-3007-48cf-9b32-4f53694eac70"
      },
      "source": [
        "plt.figure(figsize=(12,8))\n",
        "plt.plot(result.history['loss'],label='Train loss')\n",
        "plt.plot(result.history['val_loss'],label = 'Validation Loss')\n",
        "plt.xlabel('epoch no')\n",
        "plt.ylabel('loss')\n",
        "plt.legend()\n",
        "plt.show()"
      ],
      "execution_count": 60,
      "outputs": [
        {
          "output_type": "display_data",
          "data": {
            "image/png": "[encoded data removed]",
            "text/plain": [
              "<Figure size 864x576 with 1 Axes>"
            ]
          },
          "metadata": {
            "tags": []
          }
        }
      ]
    },
    {
      "cell_type": "code",
      "metadata": {
        "id": "vbGTIliMF90E",
        "colab_type": "code",
        "colab": {
          "base_uri": "https://localhost:8080/",
          "height": 497
        },
        "outputId": "9b19bb4f-108d-47cb-82b7-404da739d018"
      },
      "source": [
        "plt.figure(figsize=(12,8))\n",
        "plt.plot(result.history['acc'],label='Train acc')\n",
        "plt.plot(result.history['val_acc'],label = 'Validation acc')\n",
        "plt.xlabel('epoch no')\n",
        "plt.ylabel('acc')\n",
        "plt.legend()\n",
        "plt.show()"
      ],
      "execution_count": 62,
      "outputs": [
        {
          "output_type": "display_data",
          "data": {
            "image/png": "[encoded data removed]",
            "text/plain": [
              "<Figure size 864x576 with 1 Axes>"
            ]
          },
          "metadata": {
            "tags": []
          }
        }
      ]
    },
    {
      "cell_type": "code",
      "metadata": {
        "id": "BUC_pr8yF9tt",
        "colab_type": "code",
        "colab": {}
      },
      "source": [
        "\n",
        "# Activities are the class labels\n",
        "# It is a 3 class classification\n",
        "ACTIVITIES = {\n",
        "    0: 'WALKING',\n",
        "    1: 'WALKING_UPSTAIRS',\n",
        "    2: 'WALKING_DOWNSTAIRS'\n",
        "}\n",
        "\n",
        "# Utility function to print the confusion matrix\n",
        "def confusion_matrix_(Y_true, Y_pred):\n",
        "    Y_true = pd.Series([ACTIVITIES[y] for y in np.argmax(Y_true, axis=1)])\n",
        "    Y_pred = pd.Series([ACTIVITIES[y] for y in np.argmax(Y_pred, axis=1)])\n",
        "\n",
        "    return confusion_matrix(Y_true, Y_pred)"
      ],
      "execution_count": 0,
      "outputs": []
    },
    {
      "cell_type": "code",
      "metadata": {
        "id": "yf2Djp3iF9pi",
        "colab_type": "code",
        "colab": {
          "base_uri": "https://localhost:8080/",
          "height": 68
        },
        "outputId": "d9bcdab9-06cf-422e-c5f5-645dcc77ced1"
      },
      "source": [
        "cm = confusion_matrix_(Y_dynamic_test, model_21.predict(X_dynamic_test))\n",
        "cm"
      ],
      "execution_count": 75,
      "outputs": [
        {
          "output_type": "execute_result",
          "data": {
            "text/plain": [
              "array([[450,  32,  14],\n",
              "       [  1, 416,   3],\n",
              "       [  1,  24, 446]])"
            ]
          },
          "metadata": {
            "tags": []
          },
          "execution_count": 75
        }
      ]
    },
    {
      "cell_type": "code",
      "metadata": {
        "id": "YwhVHIehIQc8",
        "colab_type": "code",
        "colab": {
          "base_uri": "https://localhost:8080/",
          "height": 725
        },
        "outputId": "9b263555-fe19-413d-9f90-80689a9fa19d"
      },
      "source": [
        "plt.figure(figsize=(10,10))\n",
        "plot_confusion_matrix(cm, classes = ['WALKING','WALKING_UPSTAIRS','WALKING_DOWNSTAIRS'], normalize = True)\n",
        "plt.show()"
      ],
      "execution_count": 91,
      "outputs": [
        {
          "output_type": "display_data",
          "data": {
            "image/png": "[encoded data removed]",
            "text/plain": [
              "<Figure size 720x720 with 2 Axes>"
            ]
          },
          "metadata": {
            "tags": []
          }
        }
      ]
    },
    {
      "cell_type": "code",
      "metadata": {
        "id": "2QUSv-uwIQas",
        "colab_type": "code",
        "colab": {}
      },
      "source": [
        ""
      ],
      "execution_count": 0,
      "outputs": []
    },
    {
      "cell_type": "markdown",
      "metadata": {
        "id": "l1iExZsgOamb",
        "colab_type": "text"
      },
      "source": [
        "<h1> stage 2 static"
      ]
    },
    {
      "cell_type": "code",
      "metadata": {
        "id": "h_-g4ertfveG",
        "colab_type": "code",
        "colab": {}
      },
      "source": [
        "input_22 = Input(shape = (128,9,), name = 'stage_2_static') \n",
        "conv_21 = Conv1D(30, kernel_size = (3), activation = 'relu', padding = 'same')(input_22) \n",
        "conv_22 = Conv1D(50, kernel_size = (3), activation = 'relu', padding = 'same')(conv_21)\n",
        "d1= Dropout(0.5)(conv_22)\n",
        "maxpool_1 = MaxPooling1D(pool_size = (100), strides =(3))(d1)\n",
        "conv_23 = Conv1D(100, kernel_size = (3), activation = 'relu', padding = 'same')(maxpool_1)\n",
        "\n",
        "\n",
        "f1 = Flatten()(conv_23)\n",
        "d1= Dropout(0.5)(f1)\n",
        "main_output_static = Dense(3, activation = 'softmax')(d1)\n",
        "\n",
        "\n"
      ],
      "execution_count": 0,
      "outputs": []
    },
    {
      "cell_type": "code",
      "metadata": {
        "id": "0N9GYXHetnTR",
        "colab_type": "code",
        "colab": {}
      },
      "source": [
        "model_22= Model(inputs=[input_22], outputs= main_output_static)\n"
      ],
      "execution_count": 0,
      "outputs": []
    },
    {
      "cell_type": "code",
      "metadata": {
        "id": "Zgw0VylT0o1O",
        "colab_type": "code",
        "colab": {}
      },
      "source": [
        "model_22.compile(optimizer='adam', loss='categorical_crossentropy', metrics = ['accuracy'])"
      ],
      "execution_count": 0,
      "outputs": []
    },
    {
      "cell_type": "code",
      "metadata": {
        "id": "jaGHcuGB0ozO",
        "colab_type": "code",
        "outputId": "3d7954ea-3b47-49bc-fb68-9aa20333cba4",
        "colab": {
          "base_uri": "https://localhost:8080/",
          "height": 1000
        }
      },
      "source": [
        "result = model_22.fit(X_static_train , Y_static_train, batch_size = 32 , epochs = 30, verbose =1, validation_data = (X_static_test, Y_static_test))"
      ],
      "execution_count": 102,
      "outputs": [
        {
          "output_type": "stream",
          "text": [
            "Train on 4067 samples, validate on 1560 samples\n",
            "Epoch 1/30\n",
            "4067/4067 [==============================] - 2s 565us/sample - loss: 0.0357 - acc: 0.9857 - val_loss: 0.2992 - val_acc: 0.9282\n",
            "Epoch 2/30\n",
            "4067/4067 [==============================] - 2s 567us/sample - loss: 0.0235 - acc: 0.9899 - val_loss: 0.3413 - val_acc: 0.9154\n",
            "Epoch 3/30\n",
            "4067/4067 [==============================] - 2s 566us/sample - loss: 0.0318 - acc: 0.9872 - val_loss: 0.2358 - val_acc: 0.9359\n",
            "Epoch 4/30\n",
            "4067/4067 [==============================] - 2s 572us/sample - loss: 0.0274 - acc: 0.9916 - val_loss: 0.2717 - val_acc: 0.9385\n",
            "Epoch 5/30\n",
            "4067/4067 [==============================] - 2s 576us/sample - loss: 0.0243 - acc: 0.9924 - val_loss: 0.3009 - val_acc: 0.9269\n",
            "Epoch 6/30\n",
            "4067/4067 [==============================] - 2s 575us/sample - loss: 0.0206 - acc: 0.9931 - val_loss: 0.3815 - val_acc: 0.9141\n",
            "Epoch 7/30\n",
            "4067/4067 [==============================] - 2s 559us/sample - loss: 0.0279 - acc: 0.9899 - val_loss: 0.2740 - val_acc: 0.9308\n",
            "Epoch 8/30\n",
            "4067/4067 [==============================] - 2s 566us/sample - loss: 0.0232 - acc: 0.9899 - val_loss: 0.3691 - val_acc: 0.9224\n",
            "Epoch 9/30\n",
            "4067/4067 [==============================] - 2s 581us/sample - loss: 0.0217 - acc: 0.9929 - val_loss: 0.3518 - val_acc: 0.9295\n",
            "Epoch 10/30\n",
            "4067/4067 [==============================] - 2s 560us/sample - loss: 0.0278 - acc: 0.9899 - val_loss: 0.5413 - val_acc: 0.9109\n",
            "Epoch 11/30\n",
            "4067/4067 [==============================] - 2s 556us/sample - loss: 0.0166 - acc: 0.9946 - val_loss: 0.5605 - val_acc: 0.9090\n",
            "Epoch 12/30\n",
            "4067/4067 [==============================] - 2s 573us/sample - loss: 0.0336 - acc: 0.9875 - val_loss: 0.3868 - val_acc: 0.9199\n",
            "Epoch 13/30\n",
            "4067/4067 [==============================] - 2s 555us/sample - loss: 0.0240 - acc: 0.9914 - val_loss: 0.4324 - val_acc: 0.9186\n",
            "Epoch 14/30\n",
            "4067/4067 [==============================] - 2s 566us/sample - loss: 0.0187 - acc: 0.9931 - val_loss: 0.4654 - val_acc: 0.9109\n",
            "Epoch 15/30\n",
            "4067/4067 [==============================] - 2s 558us/sample - loss: 0.0197 - acc: 0.9919 - val_loss: 0.5055 - val_acc: 0.9160\n",
            "Epoch 16/30\n",
            "4067/4067 [==============================] - 2s 562us/sample - loss: 0.0164 - acc: 0.9946 - val_loss: 0.5910 - val_acc: 0.9231\n",
            "Epoch 17/30\n",
            "4067/4067 [==============================] - 2s 575us/sample - loss: 0.0170 - acc: 0.9943 - val_loss: 0.6991 - val_acc: 0.9154\n",
            "Epoch 18/30\n",
            "4067/4067 [==============================] - 2s 582us/sample - loss: 0.0114 - acc: 0.9958 - val_loss: 0.7378 - val_acc: 0.9192\n",
            "Epoch 19/30\n",
            "4067/4067 [==============================] - 2s 572us/sample - loss: 0.0214 - acc: 0.9904 - val_loss: 0.6924 - val_acc: 0.9135\n",
            "Epoch 20/30\n",
            "4067/4067 [==============================] - 2s 564us/sample - loss: 0.0201 - acc: 0.9921 - val_loss: 0.8642 - val_acc: 0.9122\n",
            "Epoch 21/30\n",
            "4067/4067 [==============================] - 2s 572us/sample - loss: 0.0167 - acc: 0.9946 - val_loss: 0.7785 - val_acc: 0.9077\n",
            "Epoch 22/30\n",
            "4067/4067 [==============================] - 2s 575us/sample - loss: 0.0246 - acc: 0.9921 - val_loss: 0.8226 - val_acc: 0.9115\n",
            "Epoch 23/30\n",
            "4067/4067 [==============================] - 2s 569us/sample - loss: 0.0176 - acc: 0.9934 - val_loss: 0.8245 - val_acc: 0.9115\n",
            "Epoch 24/30\n",
            "4067/4067 [==============================] - 2s 563us/sample - loss: 0.0465 - acc: 0.9872 - val_loss: 0.3927 - val_acc: 0.9359\n",
            "Epoch 25/30\n",
            "4067/4067 [==============================] - 2s 563us/sample - loss: 0.0565 - acc: 0.9860 - val_loss: 0.3425 - val_acc: 0.9269\n",
            "Epoch 26/30\n",
            "4067/4067 [==============================] - 2s 557us/sample - loss: 0.0145 - acc: 0.9953 - val_loss: 0.3313 - val_acc: 0.9346\n",
            "Epoch 27/30\n",
            "4067/4067 [==============================] - 2s 566us/sample - loss: 0.0171 - acc: 0.9939 - val_loss: 0.3869 - val_acc: 0.9308\n",
            "Epoch 28/30\n",
            "4067/4067 [==============================] - 2s 561us/sample - loss: 0.0203 - acc: 0.9926 - val_loss: 0.3609 - val_acc: 0.9308\n",
            "Epoch 29/30\n",
            "4067/4067 [==============================] - 2s 560us/sample - loss: 0.0131 - acc: 0.9961 - val_loss: 0.3906 - val_acc: 0.9321\n",
            "Epoch 30/30\n",
            "4067/4067 [==============================] - 2s 579us/sample - loss: 0.0181 - acc: 0.9939 - val_loss: 0.3290 - val_acc: 0.9385\n"
          ],
          "name": "stdout"
        }
      ]
    },
    {
      "cell_type": "code",
      "metadata": {
        "id": "wBmn4OsT09Fs",
        "colab_type": "code",
        "colab": {
          "base_uri": "https://localhost:8080/",
          "height": 34
        },
        "outputId": "67d2bd67-214c-4965-a71a-f4c4761cf6ea"
      },
      "source": [
        "_,acc_val = model_22.evaluate(X_static_test, Y_static_test,verbose=0)\n",
        "_,acc_train = model_22.evaluate(X_static_train, Y_static_train,verbose=0)\n",
        "print('Train_accuracy',acc_train,'test_accuracy', acc_val)"
      ],
      "execution_count": 103,
      "outputs": [
        {
          "output_type": "stream",
          "text": [
            "Train_accuracy 0.99827886 test_accuracy 0.93846154\n"
          ],
          "name": "stdout"
        }
      ]
    },
    {
      "cell_type": "code",
      "metadata": {
        "id": "W4A-AQ6sl0cF",
        "colab_type": "code",
        "colab": {
          "base_uri": "https://localhost:8080/",
          "height": 497
        },
        "outputId": "32ec2b86-6cdf-4fe9-8bbe-3db9bc60c3b9"
      },
      "source": [
        "plt.figure(figsize=(12,8))\n",
        "plt.plot(result.history['loss'],label='Train loss')\n",
        "plt.plot(result.history['val_loss'],label = 'Validation Loss')\n",
        "plt.xlabel('epoch no')\n",
        "plt.ylabel('loss')\n",
        "plt.legend()\n",
        "plt.show()"
      ],
      "execution_count": 122,
      "outputs": [
        {
          "output_type": "display_data",
          "data": {
            "image/png": "[encoded data removed]",
            "text/plain": [
              "<Figure size 864x576 with 1 Axes>"
            ]
          },
          "metadata": {
            "tags": []
          }
        }
      ]
    },
    {
      "cell_type": "code",
      "metadata": {
        "id": "2ywLsl8rl0Zf",
        "colab_type": "code",
        "colab": {
          "base_uri": "https://localhost:8080/",
          "height": 499
        },
        "outputId": "7f5f1156-4ab2-46b2-f247-d859926fcffa"
      },
      "source": [
        "plt.figure(figsize=(12,8))\n",
        "plt.plot(result.history['acc'],label='Train acc')\n",
        "plt.plot(result.history['val_acc'],label = 'Validation acc')\n",
        "plt.xlabel('epoch no')\n",
        "plt.ylabel('acc')\n",
        "plt.legend()\n",
        "plt.show()"
      ],
      "execution_count": 123,
      "outputs": [
        {
          "output_type": "display_data",
          "data": {
            "image/png": "[encoded data removed]",
            "text/plain": [
              "<Figure size 864x576 with 1 Axes>"
            ]
          },
          "metadata": {
            "tags": []
          }
        }
      ]
    },
    {
      "cell_type": "code",
      "metadata": {
        "id": "KROlRL8mOpTy",
        "colab_type": "code",
        "colab": {}
      },
      "source": [
        "# Activities are the class labels\n",
        "# It is a 3 class classification\n",
        "ACTIVITIES = {\n",
        "    0: 'SITTING',\n",
        "    1: 'STANDING',\n",
        "    2: 'LAYING'\n",
        "}\n",
        "\n",
        "# Utility function to print the confusion matrix\n",
        "def confusion_matrix_(Y_true, Y_pred):\n",
        "    Y_true = pd.Series([ACTIVITIES[y] for y in np.argmax(Y_true, axis=1)])\n",
        "    Y_pred = pd.Series([ACTIVITIES[y] for y in np.argmax(Y_pred, axis=1)])\n",
        "\n",
        "    return confusion_matrix(Y_true, Y_pred)"
      ],
      "execution_count": 0,
      "outputs": []
    },
    {
      "cell_type": "code",
      "metadata": {
        "id": "pa_kMt-3OpMx",
        "colab_type": "code",
        "colab": {
          "base_uri": "https://localhost:8080/",
          "height": 68
        },
        "outputId": "ec36bd21-6895-4989-bb37-74c4ef46cbe8"
      },
      "source": [
        "cm = confusion_matrix_(Y_static_test, model_22.predict(X_static_test))\n",
        "cm"
      ],
      "execution_count": 108,
      "outputs": [
        {
          "output_type": "execute_result",
          "data": {
            "text/plain": [
              "array([[537,   0,   0],\n",
              "       [  3, 420,  68],\n",
              "       [  0,  25, 507]])"
            ]
          },
          "metadata": {
            "tags": []
          },
          "execution_count": 108
        }
      ]
    },
    {
      "cell_type": "code",
      "metadata": {
        "id": "5iUigs21OpD_",
        "colab_type": "code",
        "colab": {
          "base_uri": "https://localhost:8080/",
          "height": 729
        },
        "outputId": "a7eaf545-8950-4163-b284-debecfa6ce9b"
      },
      "source": [
        "plt.figure(figsize=(10,10))\n",
        "plot_confusion_matrix(cm, classes = ['SITTING','STANDING','LAYING'], normalize = True)\n",
        "plt.show()"
      ],
      "execution_count": 113,
      "outputs": [
        {
          "output_type": "display_data",
          "data": {
            "image/png": "[encoded data removed]",
            "text/plain": [
              "<Figure size 720x720 with 2 Axes>"
            ]
          },
          "metadata": {
            "tags": []
          }
        }
      ]
    },
    {
      "cell_type": "markdown",
      "metadata": {
        "id": "GDpQnx5dUkm9",
        "colab_type": "text"
      },
      "source": [
        "<h1>Combining 3 models"
      ]
    },
    {
      "cell_type": "markdown",
      "metadata": {
        "id": "PBr_Badgo1rN",
        "colab_type": "text"
      },
      "source": [
        "Steps:\n",
        "\n",
        "1. predicting labels as 0 or 1 i.e. static or dynamic with stage 1 model - 'model' \n",
        "2. dividing X into X_static and X_dynamic based on the predicted labels\n",
        "3. With the help of second stage model 'model_21' dynamic data was predicted and with the help of second stage model 'model_22' static data was predicted.\n",
        "4. final prediction list was formed by appending the two second stage \n",
        "predicted lists according to the y_predicted labels of stage 1.\n",
        "\n",
        "\n",
        "(steps repeated for both train and test data)"
      ]
    },
    {
      "cell_type": "code",
      "metadata": {
        "id": "hb1fEjp8U44K",
        "colab_type": "code",
        "colab": {}
      },
      "source": [
        "#X_train, X_test, Y_train, Y_test"
      ],
      "execution_count": 0,
      "outputs": []
    },
    {
      "cell_type": "code",
      "metadata": {
        "id": "KdovYaWMT_Km",
        "colab_type": "code",
        "colab": {}
      },
      "source": [
        "###TRAIN\n",
        "predict_2class = model.predict(X_train)"
      ],
      "execution_count": 0,
      "outputs": []
    },
    {
      "cell_type": "code",
      "metadata": {
        "id": "4GX8z7XxkCCV",
        "colab_type": "code",
        "colab": {}
      },
      "source": [
        "y_predict_2class = np.argmax(predict_2class, axis=1)"
      ],
      "execution_count": 0,
      "outputs": []
    },
    {
      "cell_type": "code",
      "metadata": {
        "id": "mFkQHOv0kFqX",
        "colab_type": "code",
        "colab": {
          "base_uri": "https://localhost:8080/",
          "height": 34
        },
        "outputId": "52b6c3dc-2079-46d9-8584-01593892c985"
      },
      "source": [
        "y_predict_2class "
      ],
      "execution_count": 261,
      "outputs": [
        {
          "output_type": "execute_result",
          "data": {
            "text/plain": [
              "array([0, 0, 0, ..., 1, 1, 1])"
            ]
          },
          "metadata": {
            "tags": []
          },
          "execution_count": 261
        }
      ]
    },
    {
      "cell_type": "code",
      "metadata": {
        "id": "Gy5eu6dzkSbn",
        "colab_type": "code",
        "colab": {}
      },
      "source": [
        "X_dynamic = X_train[y_predict_2class ==1]\n",
        "X_static = X_train[y_predict_2class ==0]"
      ],
      "execution_count": 0,
      "outputs": []
    },
    {
      "cell_type": "code",
      "metadata": {
        "id": "YuTERJm6mTzi",
        "colab_type": "code",
        "colab": {
          "base_uri": "https://localhost:8080/",
          "height": 34
        },
        "outputId": "d9e79196-5d97-4534-f36d-61be14f6d458"
      },
      "source": [
        "predict_dynamic = model_21.predict(X_dynamic) #just predicting the x data which was predicted as 'dynamic' by the stage 1 model.\n",
        "\n",
        "predict_dynamic = np.argmax(predict_dynamic, axis=1) #takes the position/index which has the highest value\n",
        "\n",
        "np.unique(predict_dynamic)"
      ],
      "execution_count": 263,
      "outputs": [
        {
          "output_type": "execute_result",
          "data": {
            "text/plain": [
              "array([0, 1, 2])"
            ]
          },
          "metadata": {
            "tags": []
          },
          "execution_count": 263
        }
      ]
    },
    {
      "cell_type": "code",
      "metadata": {
        "id": "Iuw7ov-zMFRZ",
        "colab_type": "code",
        "colab": {
          "base_uri": "https://localhost:8080/",
          "height": 34
        },
        "outputId": "376d35dc-0770-4a18-cc08-53cb44821c90"
      },
      "source": [
        "predict_static = model_22.predict(X_static) #just predicting the x data which was predicted as 'static' by the stage 1 model.\n",
        "\n",
        "predict_static = np.argmax(predict_static, axis=1) #takes the position/index which has the highest value\n",
        "\n",
        "#replacing 0,1,2 with 3,4,5 --- so that we get 6 unique values at the end(0-5)\n",
        "predict_static[predict_static ==0] = 3 \n",
        "predict_static[predict_static ==1] = 4\n",
        "predict_static[predict_static ==2] = 5\n",
        "\n",
        "\n",
        "print(np.unique(predict_static))"
      ],
      "execution_count": 264,
      "outputs": [
        {
          "output_type": "stream",
          "text": [
            "[3 4 5]\n"
          ],
          "name": "stdout"
        }
      ]
    },
    {
      "cell_type": "code",
      "metadata": {
        "id": "YwsNGNbem5pR",
        "colab_type": "code",
        "colab": {
          "base_uri": "https://localhost:8080/",
          "height": 68
        },
        "outputId": "126fe338-f6fe-48fc-e3a2-4f59a6d8a4b5"
      },
      "source": [
        "print(y_predict_2class.shape)\n",
        "print(predict_static.shape)\n",
        "print(predict_dynamic.shape)"
      ],
      "execution_count": 265,
      "outputs": [
        {
          "output_type": "stream",
          "text": [
            "(7352,)\n",
            "(4064,)\n",
            "(3288,)\n"
          ],
          "name": "stdout"
        }
      ]
    },
    {
      "cell_type": "code",
      "metadata": {
        "id": "OrW3szqnnlma",
        "colab_type": "code",
        "colab": {}
      },
      "source": [
        "final_pred_train = [] #this will be the final predicted list of our complete divide and conquer model for train data\n",
        "i,j=0,0\n",
        "\n",
        "for k in y_predict_2class:\n",
        "  if k ==1:\n",
        "    final_pred_train.append(predict_dynamic[i])\n",
        "    i+=1\n",
        "  else:\n",
        "    final_pred_train.append(predict_static[j])\n",
        "    j+=1"
      ],
      "execution_count": 0,
      "outputs": []
    },
    {
      "cell_type": "code",
      "metadata": {
        "id": "gL2mxMBPItuE",
        "colab_type": "code",
        "colab": {
          "base_uri": "https://localhost:8080/",
          "height": 34
        },
        "outputId": "d9e0c88b-5aeb-4910-da8d-6de5ce6cdd35"
      },
      "source": [
        "(len(final_pred_train))"
      ],
      "execution_count": 267,
      "outputs": [
        {
          "output_type": "execute_result",
          "data": {
            "text/plain": [
              "7352"
            ]
          },
          "metadata": {
            "tags": []
          },
          "execution_count": 267
        }
      ]
    },
    {
      "cell_type": "code",
      "metadata": {
        "id": "8sHk06UD56Ei",
        "colab_type": "code",
        "colab": {}
      },
      "source": [
        "###TEST\n",
        "predict_2class = model.predict(X_test)\n",
        "y_predict_2class = np.argmax(predict_2class, axis=1)\n",
        "\n",
        "X_dynamic = X_test[y_predict_2class ==1]\n",
        "X_static = X_test[y_predict_2class ==0]\n",
        "\n",
        "\n",
        "predict_dynamic = model_21.predict(X_dynamic) #just predicting the x data which was predicted as 'dynamic' by the stage 1 model.\n",
        "predict_dynamic = np.argmax(predict_dynamic, axis=1) #takes the position/index which has the highest value\n",
        "\n",
        "\n",
        "predict_static = model_22.predict(X_static) #just predicting the x data which was predicted as 'static' by the stage 1 model.\n",
        "\n",
        "predict_static = np.argmax(predict_static, axis=1) #takes the position/index which has the highest value\n",
        "\n",
        "#replacing 0,1,2 with 3,4,5 --- so that we get 6 unique values at the end(0-5)\n",
        "predict_static[predict_static ==0] = 3 \n",
        "predict_static[predict_static ==1] = 4\n",
        "predict_static[predict_static ==2] = 5\n",
        "\n",
        "\n",
        "final_pred_test = [] #this will be the final predicted list of our complete divide and conquer model for train data\n",
        "i,j=0,0\n",
        "\n",
        "for k in y_predict_2class:\n",
        "  if k ==1:\n",
        "    final_pred_test.append(predict_dynamic[i])\n",
        "    i+=1\n",
        "  else:\n",
        "    final_pred_test.append(predict_static[j])\n",
        "    j+=1\n"
      ],
      "execution_count": 0,
      "outputs": []
    },
    {
      "cell_type": "code",
      "metadata": {
        "id": "g7nSxvuWJOD0",
        "colab_type": "code",
        "colab": {
          "base_uri": "https://localhost:8080/",
          "height": 68
        },
        "outputId": "d1302499-f81f-498c-d6d0-ffbd72b4a784"
      },
      "source": [
        "print(y_predict_2class.shape)\n",
        "print(predict_static.shape)\n",
        "print(predict_dynamic.shape)"
      ],
      "execution_count": 269,
      "outputs": [
        {
          "output_type": "stream",
          "text": [
            "(2947,)\n",
            "(1555,)\n",
            "(1392,)\n"
          ],
          "name": "stdout"
        }
      ]
    },
    {
      "cell_type": "code",
      "metadata": {
        "id": "Rz8Xg_PSJc3u",
        "colab_type": "code",
        "colab": {
          "base_uri": "https://localhost:8080/",
          "height": 34
        },
        "outputId": "457401f8-17c7-4572-b8a5-12104af7d758"
      },
      "source": [
        "(len(final_pred_test))"
      ],
      "execution_count": 270,
      "outputs": [
        {
          "output_type": "execute_result",
          "data": {
            "text/plain": [
              "2947"
            ]
          },
          "metadata": {
            "tags": []
          },
          "execution_count": 270
        }
      ]
    },
    {
      "cell_type": "code",
      "metadata": {
        "id": "SoIeZEhDHEhQ",
        "colab_type": "code",
        "colab": {
          "base_uri": "https://localhost:8080/",
          "height": 51
        },
        "outputId": "07a62491-fb4b-40ad-af2d-9561c45388f4"
      },
      "source": [
        "final_pred_train = np.array(final_pred_train)[:, np.newaxis]\n",
        "print(final_pred_train.shape)\n",
        "\n",
        "final_pred_test = np.array(final_pred_test)[:, np.newaxis]\n",
        "print(final_pred_test.shape)\n"
      ],
      "execution_count": 271,
      "outputs": [
        {
          "output_type": "stream",
          "text": [
            "(7352, 1)\n",
            "(2947, 1)\n"
          ],
          "name": "stdout"
        }
      ]
    },
    {
      "cell_type": "code",
      "metadata": {
        "id": "Np_Gr3MDGnND",
        "colab_type": "code",
        "colab": {
          "base_uri": "https://localhost:8080/",
          "height": 105
        },
        "outputId": "89505a80-027d-4b9b-d1d6-e1cb004d661d"
      },
      "source": [
        "from sklearn.preprocessing import OneHotEncoder\n",
        "encoder = OneHotEncoder()\n",
        "\n",
        "final_pred_train_owe = encoder.fit_transform(final_pred_train.reshape(-1,1)).toarray()\n",
        "\n",
        "final_pred_test_owe = encoder.transform(final_pred_test.reshape(-1,1)).toarray()"
      ],
      "execution_count": 272,
      "outputs": [
        {
          "output_type": "stream",
          "text": [
            "/usr/local/lib/python3.6/dist-packages/sklearn/preprocessing/_encoders.py:415: FutureWarning: The handling of integer data will change in version 0.22. Currently, the categories are determined based on the range [0, max(values)], while in the future they will be determined based on the unique values.\n",
            "If you want the future behaviour and silence this warning, you can specify \"categories='auto'\".\n",
            "In case you used a LabelEncoder before this OneHotEncoder to convert the categories to integers, then you can now use the OneHotEncoder directly.\n",
            "  warnings.warn(msg, FutureWarning)\n"
          ],
          "name": "stderr"
        }
      ]
    },
    {
      "cell_type": "code",
      "metadata": {
        "id": "mhFCIXQ5Jw9m",
        "colab_type": "code",
        "colab": {
          "base_uri": "https://localhost:8080/",
          "height": 85
        },
        "outputId": "94ab9f55-f5ab-4e40-af31-2baa28cc6886"
      },
      "source": [
        "print(final_pred_train_owe.shape)\n",
        "print(final_pred_test_owe.shape)\n",
        "\n",
        "print(Y_train.shape)\n",
        "print(Y_test.shape)"
      ],
      "execution_count": 273,
      "outputs": [
        {
          "output_type": "stream",
          "text": [
            "(7352, 6)\n",
            "(2947, 6)\n",
            "(7352, 6)\n",
            "(2947, 6)\n"
          ],
          "name": "stdout"
        }
      ]
    },
    {
      "cell_type": "code",
      "metadata": {
        "id": "52XEEe4x7XK4",
        "colab_type": "code",
        "colab": {
          "base_uri": "https://localhost:8080/",
          "height": 51
        },
        "outputId": "4e07d619-6dc0-4ae6-ec8a-6474ccbc3776"
      },
      "source": [
        "from sklearn.metrics import accuracy_score\n",
        "print('Accuracy of train data',accuracy_score(Y_train,final_pred_train_owe))\n",
        "print('Accuracy of test data',accuracy_score(Y_test,final_pred_test_owe))"
      ],
      "execution_count": 282,
      "outputs": [
        {
          "output_type": "stream",
          "text": [
            "Accuracy of train data 0.9986398258977149\n",
            "Accuracy of test data 0.9395995928062436\n"
          ],
          "name": "stdout"
        }
      ]
    },
    {
      "cell_type": "code",
      "metadata": {
        "id": "AdnsqBb1Pg2B",
        "colab_type": "code",
        "colab": {
          "base_uri": "https://localhost:8080/",
          "height": 119
        },
        "outputId": "cb53d5b6-d217-47c7-856b-469c33dae4db"
      },
      "source": [
        "cm = confusion_matrix_(Y_test, final_pred_test_owe)\n",
        "cm"
      ],
      "execution_count": 280,
      "outputs": [
        {
          "output_type": "execute_result",
          "data": {
            "text/plain": [
              "array([[536,   0,   0,   0,   0,   1],\n",
              "       [  3, 420,  68,   0,   0,   0],\n",
              "       [  0,  25, 502,   3,   0,   2],\n",
              "       [  0,   0,   0, 450,  32,  14],\n",
              "       [  0,   0,   0,   1, 416,   3],\n",
              "       [  0,   1,   0,   1,  24, 445]])"
            ]
          },
          "metadata": {
            "tags": []
          },
          "execution_count": 280
        }
      ]
    },
    {
      "cell_type": "code",
      "metadata": {
        "id": "uAz33MgfKMKL",
        "colab_type": "code",
        "colab": {
          "base_uri": "https://localhost:8080/",
          "height": 694
        },
        "outputId": "aad447a1-77af-4526-d452-777a21a35ea8"
      },
      "source": [
        "plt.figure(figsize=(10,10))\n",
        "plot_confusion_matrix(cm, classes = ['WALKING','WALKING_UPSTAIRS','WALKING_DOWNSTAIRS','SITTING','STANDING','LAYING'], normalize = True)\n",
        "plt.show()\n",
        "\n"
      ],
      "execution_count": 281,
      "outputs": [
        {
          "output_type": "display_data",
          "data": {
            "image/png": "[encoded data removed]",
            "text/plain": [
              "<Figure size 720x720 with 2 Axes>"
            ]
          },
          "metadata": {
            "tags": []
          }
        }
      ]
    },
    {
      "cell_type": "markdown",
      "metadata": {
        "id": "MdHKhRggQyp4",
        "colab_type": "text"
      },
      "source": [
        "The final accuracies received with Divide and Conquer approach on the HAR datase are -\n",
        " and \n",
        "\n",
        "*   Train Accuracy -  99.86%\n",
        "*   Test Accuracy -  93.96%\n",
        "\n",
        "\n"
      ]
    },
    {
      "cell_type": "code",
      "metadata": {
        "id": "H4ZP_V5QRMXk",
        "colab_type": "code",
        "colab": {}
      },
      "source": [
        ""
      ],
      "execution_count": 0,
      "outputs": []
    }
  ]
}